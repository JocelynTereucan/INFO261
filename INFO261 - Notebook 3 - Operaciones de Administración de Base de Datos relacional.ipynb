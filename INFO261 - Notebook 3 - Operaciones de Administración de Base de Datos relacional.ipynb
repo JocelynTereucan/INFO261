{
 "cells": [
  {
   "cell_type": "markdown",
   "metadata": {},
   "source": [
    "# Notebook 3: Operaciones de Administración de Base de Datos relacional"
   ]
  },
  {
   "cell_type": "markdown",
   "metadata": {},
   "source": [
    "En el ciclo de vida de una base de datos relacional, a menudo el administrador de la BD tiene que realizar ciertas operaciones de mantención. Mencionamos en particular:\n",
    "\n",
    "1- Realizar una copia de seguridad de los datos\n",
    "\n",
    "2- Crear usuarios y definir permisos de acceso a la BD\n",
    "\n",
    "3- Modificar la estructura de la BD\n",
    "\n",
    "4- Agregar restricciones o reglas de integridad sobre la estructura de los datos"
   ]
  },
  {
   "cell_type": "markdown",
   "metadata": {},
   "source": [
    "## Ejercicio 1: Crear una BD de prueba básica"
   ]
  },
  {
   "cell_type": "markdown",
   "metadata": {},
   "source": [
    "Para realizar los ejercicios siguientes, primero vamos a crear una BD de prueba básica, llamada \"Valdivia\". Esta base de datos está constituida por 3 tablas:\n",
    "\n",
    "- PERSONA(pk_RUT, Nombre, Edad)   (ej.: \"1, Juan, 20\")\n",
    "\n",
    "- LUGAR_DE_INTERES(pk_Lugar, Descripcion, Categoria, Latitud, Longitud)  (ej.; \"1, Mercado Fluvial, Turismo, -39.81, -73.24\")\n",
    "\n",
    "- DESPLAZARSE(#pk_RUT, fecha, Latitud, Longitud)  (ej. \"1, 30/09/2018 12:00:00, -39, -70\")"
   ]
  },
  {
   "cell_type": "markdown",
   "metadata": {},
   "source": [
    "1) Implementar la estructura de esta base de datos en MySQL indicando las claves primarias y foraneas y los tipos de datos\n",
    "\n",
    "2) Insertar al menos 5 filas en cada tabla\n",
    "\n",
    "3) ¿A qué tipo de aplicación podría servir esta base de datos?"
   ]
  },
  {
   "cell_type": "code",
   "execution_count": null,
   "metadata": {},
   "outputs": [],
   "source": [
    "import mysql.connector\n",
    "import pandas as pd\n",
    "import subprocess \n",
    "from subprocess import Popen, PIPE, STDOUT\n",
    "from IPython.display import display,HTML\n",
    "\n",
    "db_connection = mysql.connector.connect(user=\"root\",host=\"localhost\",password=\"94209420\")\n",
    "cursor = db_connection.cursor()\n",
    "\n",
    "cursor.execute(\"CREATE DATABASE valdivia\") #creacion de la base de datos\n",
    "\n",
    "cursor.execute(\"USE valdivia\") #ingresamos a la base de datos \n",
    "\n",
    "cursor.execute(\"CREATE TABLE persona(pk_rut INT AUTO_INCREMENT, nombre VARCHAR(50), edad INT, PRIMARY KEY (pk_rut))\")\n",
    "cursor.execute(\"CREATE TABLE lugar_de_interes(pk_lugar INT AUTO_INCREMENT, descripcion VARCHAR(100), categoria VARCHAR(50), latitud FLOAT, longitud FLOAT, PRIMARY KEY(pk_lugar))\")\n",
    "cursor.execute(\"CREATE TABLE desplazarse(fecha VARCHAR (15), latitud FLOAT, longitud FLOAT, FOREIGN KEY id_rut(pk_rut))\")"
   ]
  },
  {
   "cell_type": "code",
   "execution_count": null,
   "metadata": {},
   "outputs": [],
   "source": [
    "#insertar en tabla persona\n",
    "\n",
    "cursor.execute(\"INSERT INTO persona (pk_RUT,nombre,edad) VALUES ('17.789.356-6','vicente ignar', 28)\")\n",
    "cursor.execute(\"INSERT INTO persona (pk_RUT,nombre,edad) VALUES ('18.964.665-1','Ricardo Rott', 25)\")\n",
    "cursor.execute(\"INSERT INTO persona (pk_RUT,nombre,edad) VALUES ('19.435.455-6','yanett richo', 20)\")\n",
    "cursor.execute(\"INSERT INTO persona (pk_RUT,nombre,edad) VALUES ('17.695.345-7','Marcelo Urra', 34)\")\n",
    "cursor.execute(\"INSERT INTO persona (pk_RUT,nombre,edad) VALUES ('9.533.556-9','Karin Rivas', 58)\")\n",
    "\n",
    "#insertar en tabla lugar_de_interes\n",
    "\n",
    "cursor.execute(\"INSERT INTO lugas_de_interes (pk_lugar, descripcion, categoria, latitud, longitud) VALUES (1,'Playa', 'turismo', 90,-30)\")\n",
    "cursor.execute(\"INSERT INTO lugas_de_interes (pk_lugar, descripcion, categoria, latitud, longitud) VALUES (2,'Mercado', 'comercio', 40,15)\")\n",
    "cursor.execute(\"INSERT INTO lugas_de_interes (pk_lugar, descripcion, categoria, latitud, longitud) VALUES (3,'Mall', 'comercio', 45,30)\")\n",
    "cursor.execute(\"INSERT INTO lugas_de_interes (pk_lugar, descripcion, categoria, latitud, longitud) VALUES (4,'Feria fluvial', 'comercio', -15,59)\")\n",
    "cursor.execute(\"INSERT INTO lugas_de_interes (pk_lugar, descripcion, categoria, latitud, longitud) VALUES (5,'Fuerte niebla', 'turismo', -90,60)\")\n",
    "\n",
    "#insertar en tabla desplazarse\n",
    "\n",
    "cursor.execute(\"INSERT INTO desplazarse (pk_RUT,fecha,latitud, longitud) VALUES ('17.789.356-6','29/10/2005 17:20:00', 50, 30)\")\n",
    "cursor.execute(\"INSERT INTO desplazarse (pk_RUT,fecha,latitud, longitud) VALUES ('18.964.665-1','19/11/2007 20:59:01', 38, 24)\")\n",
    "cursor.execute(\"INSERT INTO desplazarse (pk_RUT,fecha,latitud, longitud) VALUES ('19.435.455-6','28/12/2014 01:25:50', 70, 65)\")\n",
    "cursor.execute(\"INSERT INTO desplazarse (pk_RUT,fecha,latitud, longitud) VALUES ('17.695.345-7','15/07/2018 15:30:43', 85, 34)\")\n",
    "cursor.execute(\"INSERT INTO desplazarse (pk_RUT,fecha,latitud, longitud) VALUES ('9.533.556-9','16/04/2011 09:45:23', 59, 64)\")"
   ]
  },
  {
   "cell_type": "code",
   "execution_count": null,
   "metadata": {},
   "outputs": [],
   "source": [
    "Puede ser para una empresa de turismo, que tenga clientes y sepa el movimiento, gustos de sus clientes,\n",
    "pudiendo asi recomendar lugares de interes"
   ]
  },
  {
   "cell_type": "markdown",
   "metadata": {},
   "source": [
    "## Ejercicio 2: Realizar una copia de seguridad de una BD y exportar datos"
   ]
  },
  {
   "cell_type": "markdown",
   "metadata": {},
   "source": [
    "<a href=\"https://dev.mysql.com/doc/refman/8.0/en/backup-and-recovery.html\"> Backup and Recovery in MySQL</a>\n",
    "\n",
    "1) ¿Por qué hacer copias de seguridad de su base de datos?\n",
    "\n",
    "2) Utilizar el comando <code>Mysqldump</code> para realizar una copia de su base de datos. ¿Cuál es el <i>output</i> de este comando?\n",
    "\n",
    "3) En algunos casos, queremos simplemente exportar datos para poder utilizarlos en otros contextos. ¿En qué consiste el formato de datos CSV? ¿Cómo exportar datos al formato CSV desde MySQL? (ver: <a href=\"http://www.mysqltutorial.org/mysql-export-table-to-csv/\">Tutorial</a>)"
   ]
  },
  {
   "cell_type": "code",
   "execution_count": null,
   "metadata": {},
   "outputs": [],
   "source": [
    "1.- Porque si no hacemos copias de seguridad podriamos perder nuestros datos, si perdemos el dispositivo o la \n",
    "base de datos tiene un error, podemos buscar nuestro respaldo y tomar los datos que teniamos nuevamente. \n",
    "\n",
    "2.- Se despliegara en pantalla una copia de la base de datos que queremos.\n",
    "\n",
    "3.- se utiliza el formato de archivo CSV para intercambiar datos entre aplicaciones.\n",
    "Para hacerlo, necesita usar la declaración preparada de MySQL. Se exporta con el siguiente comando\n",
    "mysql -u root -p valdivia -e 'SELECT * FROM persona'  > persona.csv"
   ]
  },
  {
   "cell_type": "markdown",
   "metadata": {},
   "source": [
    "## Ejercicio 3: Gestionar usuarios y privilegios de lectura y escritura\n",
    "\n",
    "En la configuración por defecto de MySQL, existe un sólo usuario, llamado 'root', lo cual tiene todos los derechos. En término de seguridad es muy poco recomendable trabajar siempre con el usuario 'root' (en particular cuando se deja los passwords en el código o un archivo de parametros). \n",
    "\n",
    "1) ¿Cuáles son los tipos de privilegios en una base de datos relacional?\n",
    "\n",
    "2) Crear un nuevo usuario y darle todos los privilegios sobre la base de datos 'Valdivia'\n",
    "\n",
    "3) Crear un nuevo usuario, lo cual tendrá solamente acceso de lectura sobre la tabla Lugar_de_interes y Desplazarse"
   ]
  },
  {
   "cell_type": "code",
   "execution_count": null,
   "metadata": {},
   "outputs": [],
   "source": [
    "1. Exiten 5 tipos de privilegios\n",
    "- usuario: contiene la cuenta de usuario y las columnas de privilegios globales. Un privilegio otorgado en la tabla de \n",
    "usuario es efectivo para todas las bases de datos en el servidor MySQL.\n",
    "-db: contiene privilegios de nivel de base de datos. Un privilegio otorgado en el nivel de la base de datos en la tabla db \n",
    "se aplica a la base de datos y todos los objetos pertenecen a esa base de datos, por ejemplo, tablas, activadores, \n",
    "vistas, procedimientos almacenados, etc.\n",
    "-table_priv y columns_priv: contiene privilegios de nivel de tabla y nivel de columna. \n",
    "Un privilegio otorgado en la tabla table_priv se aplica a la tabla y sus columnas, mientras que un privilegio \n",
    "otorgado en la tabla columns_priv solo se aplica a una columna específica de una tabla.\n",
    "-procs_priv: contiene funciones almacenadas y privilegios de procedimientos almacenados\n",
    "    "
   ]
  },
  {
   "cell_type": "code",
   "execution_count": null,
   "metadata": {},
   "outputs": [],
   "source": [
    "#2.\n",
    "\n",
    "cursor.execute(\"CREATE USER user@localhost IDENTIFIED BY 'secret'\") #crea el usuario\n",
    "cursor.execute(\"GRANT ALL ON *.* TO 'user'@'localhost' WITH GRANT OPTION\") #otorga todos los privilegios"
   ]
  },
  {
   "cell_type": "code",
   "execution_count": null,
   "metadata": {},
   "outputs": [],
   "source": [
    "#3.\n",
    "cursor.execute(\"CREATE USER user2@localhost IDENTIFIED BY 'secret2'\") #crea el usuario2\n",
    "cursor.execute(\"GRANT ALL ON valdivia.lugar_de_interes TO 'user2'@'localhost'\") #le da acceso a lugar de interes\n",
    "cursor.execute(\"GRANT ALL ON valdivia.desplazarse TO 'user2'@'localhost'\") #da acceso a desplazarse"
   ]
  },
  {
   "cell_type": "markdown",
   "metadata": {},
   "source": [
    "## Ejercicio 4: Modificar la estructura de una Base de Datos\n",
    "\n",
    "Supongamos que queremos modificar la estructura de la base de datos 'Valdivia'. \n",
    "\n",
    "1) Modificar la BD (sin borrarla) para agregar un campo 'nivel de estudio' en la tabla 'Persona'.\n",
    "\n",
    "2) Modificar la BD (sin borrarla) para dejar la posibilidad de tener varias categorías para describir un lugar de interés (implica crear una tabla adicional)\n",
    "\n",
    "3) Agregar una restricción para que las columnas \"Latitud\" y \"Longitud\" nuncan sean NULL"
   ]
  },
  {
   "cell_type": "code",
   "execution_count": null,
   "metadata": {},
   "outputs": [],
   "source": [
    "#1.- \n",
    "cursor.execute(\"ALTER TABLE persona ADD COLUMN nivel_est VARCHAR(10)\")\n",
    "\n",
    "#2.-\n",
    "cursor.execute(\"CREATE TABLE categoria (pk nom_ct INT AUTO_INCREMENT, nombre_cat VARCHAR(50), pk_Lugar INTEGER(10) NOT NULL, PRIMARY KEY (pk nom_ct), FOREIGN KEY (pk_Lugar) REFERENCES lugar_de_interes(pk_Lugar));\")\n",
    "\n",
    "cursor.execute(\"INSERT INTO categoria (pk nom_ct, nombre_cat,pk_Lugar) VALUES (1, 'turismo',1)\")\n",
    "\n",
    "cursor.execute(\"INSERT INTO categoria (pk nom_ct, nombre_cat,pk_Lugar) VALUES (2, 'comercio',2)\")\n",
    "\n",
    "cursor.execute(\"INSERT INTO categoria (pk nom_ct, nombre_cat,pk_Lugar) VALUES (3, 'comercio',3)\")\n",
    "\n",
    "cursor.execute(\"INSERT INTO categoria (pk nom_ct, nombre_cat,pk_Lugar) VALUES (4, 'comercio',4)\")\n",
    "\n",
    "cursor.execute(\"INSERT INTO categoria (pk nom_ct, nombre_cat,pk_Lugar) VALUES (5, 'turismo',5)\")\n",
    "\n",
    "#3.-\n",
    "\n",
    "cursor.execute(\"ALTER TABLE lugar_de_interes MODIFY latitud INT AUTO_INCREMENT NOT NULL\")\n",
    "\n",
    "cursor.execute(\"ALTER TABLE lugar_de_interes MODIFY longitud INT AUTO_INCREMENT NOT NULL\")\n",
    "\n"
   ]
  },
  {
   "cell_type": "markdown",
   "metadata": {},
   "source": [
    "## Ejercicio 5 (opcional): Innovación para Valdivia - Smart City\n",
    "\n",
    "1) Revisar el concurso \"Desafio Smart City\": https://www.innoving.cl/smartcity\n",
    "\n",
    "2) Considerando que la empresa Telefonica del Sur podría darle acceso a ciertos datos telefónicos de la Ciudad, imaginar un escenario de innovación basado sobre una base de datos similar a aquella que creamos."
   ]
  },
  {
   "cell_type": "code",
   "execution_count": null,
   "metadata": {},
   "outputs": [],
   "source": [
    "2. Basandonos en la base de datos recien creada, podriamos desarrollar un proyecto de ayuda al turismo. En él podemos \n",
    "reunir los principales atractivos turisticos de la ciudad, sus principales comercios, y artesanias. Como requisito a la app\n",
    "seria la creacion de un usuario, con ello podremos reunir datos de interes, como los atractivos que mas le gustan, o \n",
    "los comercios a los que recurre, y asi al ingreso de otro usuario que presente algun interes en comun, podemos hacer \n",
    "recomendaciones, basadas en los gustos de usuarios similares, asi seria mas facil encontrar lugares que son completamente \n",
    "de su interes para cada usuario. Estaria conectada a una red gps para los usuarios turistas, ademas de dar indicaciones \n",
    "de el transporte publico que deben tomar, horarios, valores y ubicaciones. "
   ]
  }
 ],
 "metadata": {
  "kernelspec": {
   "display_name": "Python 3",
   "language": "python",
   "name": "python3"
  },
  "language_info": {
   "codemirror_mode": {
    "name": "ipython",
    "version": 3
   },
   "file_extension": ".py",
   "mimetype": "text/x-python",
   "name": "python",
   "nbconvert_exporter": "python",
   "pygments_lexer": "ipython3",
   "version": "3.5.2"
  }
 },
 "nbformat": 4,
 "nbformat_minor": 2
}
